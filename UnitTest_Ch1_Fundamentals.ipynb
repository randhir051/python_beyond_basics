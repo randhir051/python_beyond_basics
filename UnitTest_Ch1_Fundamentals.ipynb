{
 "cells": [
  {
   "cell_type": "code",
   "execution_count": 19,
   "metadata": {},
   "outputs": [
    {
     "name": "stderr",
     "output_type": "stream",
     "text": [
      ".......\n",
      "----------------------------------------------------------------------\n",
      "Ran 7 tests in 0.014s\n",
      "\n",
      "OK\n"
     ]
    }
   ],
   "source": [
    "# Phonebook example to illustrate unittest\n",
    "\n",
    "import unittest\n",
    "\n",
    "class PhoneBook:\n",
    "    \n",
    "    def __init__(self):\n",
    "        self.book = {}\n",
    "    \n",
    "    def lookup(self, name):\n",
    "        return self.book[name]\n",
    "            \n",
    "    def add(self, name, number):\n",
    "        self.book[name]=number\n",
    "        \n",
    "    def is_consistent(self):\n",
    "        if len(self.book)==0:\n",
    "            return True\n",
    "        \n",
    "        for name, number in self.book.items():\n",
    "            for name2, number2 in self.book.items():\n",
    "                if name==name2:\n",
    "                    continue\n",
    "                if number2.startswith(number):\n",
    "                    return False\n",
    "        return True\n",
    "            \n",
    "    \n",
    "class PhoneBookTest(unittest.TestCase):\n",
    "    \n",
    "    def setUp(self):\n",
    "        self.phonebook = PhoneBook()\n",
    "        \n",
    "    def test_object_creation(self):\n",
    "        self.assertTrue(isinstance(self.phonebook, PhoneBook))\n",
    "    \n",
    "    def test_lookup_by_name(self):\n",
    "        self.phonebook.add('Bob','12345')\n",
    "        number = self.phonebook.lookup('Bob')\n",
    "        self.assertEqual('12345',number)\n",
    "                \n",
    "    def test_name_not_present(self):\n",
    "        with self.assertRaises(KeyError):\n",
    "            self.phonebook.lookup('Bob')\n",
    "            \n",
    "    def test_empty_phonebook_consistent(self):\n",
    "        self.assertTrue(self.phonebook.is_consistent())        \n",
    "    \n",
    "    def test_phonebook_consistent_different_number(self):\n",
    "        self.phonebook.add('Bob','12345')\n",
    "        self.phonebook.add('Alice','9876')\n",
    "        self.assertTrue(self.phonebook.is_consistent())\n",
    "    \n",
    "    def test_phonebook_consistent_duplicate(self):\n",
    "        self.phonebook.add('Bob','12345')\n",
    "        self.phonebook.add('Alice','12345')\n",
    "        self.assertFalse(self.phonebook.is_consistent())\n",
    "        \n",
    "    def test_phonebook_consistent_prefix(self):\n",
    "        self.phonebook.add('Bob','12345')\n",
    "        self.phonebook.add('Alice','123')\n",
    "        self.assertFalse(self.phonebook.is_consistent())\n",
    "        \n",
    "        \n",
    "        \n",
    "if __name__ == \"__main__\":\n",
    "#    unittest.main(PhoneBookTest())        \n",
    "    unittest.main(argv=['first-arg-is-ignored'], exit=False)"
   ]
  },
  {
   "cell_type": "code",
   "execution_count": null,
   "metadata": {},
   "outputs": [],
   "source": []
  }
 ],
 "metadata": {
  "kernelspec": {
   "display_name": "Python 3",
   "language": "python",
   "name": "python3"
  },
  "language_info": {
   "codemirror_mode": {
    "name": "ipython",
    "version": 3
   },
   "file_extension": ".py",
   "mimetype": "text/x-python",
   "name": "python",
   "nbconvert_exporter": "python",
   "pygments_lexer": "ipython3",
   "version": "3.6.4"
  }
 },
 "nbformat": 4,
 "nbformat_minor": 2
}
