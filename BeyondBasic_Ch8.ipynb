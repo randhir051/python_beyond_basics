{
 "cells": [
  {
   "cell_type": "markdown",
   "metadata": {},
   "source": [
    "# Iterables and Iteration"
   ]
  },
  {
   "cell_type": "code",
   "execution_count": 15,
   "metadata": {
    "collapsed": false
   },
   "outputs": [
    {
     "name": "stdout",
     "output_type": "stream",
     "text": [
      "[0, 2, 4, 6, 8, 10, 12, 14, 16, 18] \n",
      " <class 'list'>\n",
      "{0: 0, 1: 2, 2: 4, 3: 6, 4: 8, 5: 10, 6: 12, 7: 14, 8: 16, 9: 18} \n",
      " <class 'dict'>\n",
      "{0, 1, 2, 3, 4, 5, 6, 7, 8, 9} \n",
      " <class 'set'>\n",
      "<generator object <genexpr> at 0x00000000058924C0> \n",
      " <class 'generator'>\n",
      "[0, 1, 2, 3, 4, 5, 6, 7, 8, 9]\n"
     ]
    }
   ],
   "source": [
    "# Comprehension create iterables of different typoes\n",
    "\n",
    "# List comrehension \n",
    "l = [i*2 for i in range(10)]\n",
    "print(l,'\\n',type(l))\n",
    "\n",
    "# Dictionary \n",
    "d = {i: i*2 for i in range(10)}\n",
    "print(d,'\\n',type(d))\n",
    "\n",
    "# Set \n",
    "s = {i for i in range(10)}\n",
    "print(s,'\\n',type(s))\n",
    "\n",
    "# Generator\n",
    "g = (i for i in range(10))\n",
    "print(g,'\\n',type(g))\n",
    "print(list(g))"
   ]
  },
  {
   "cell_type": "code",
   "execution_count": 4,
   "metadata": {
    "collapsed": false
   },
   "outputs": [
    {
     "name": "stdout",
     "output_type": "stream",
     "text": [
      "[(0, 0), (0, 1), (0, 2), (1, 0), (1, 1), (1, 2), (2, 0), (2, 1), (2, 2), (3, 0), (3, 1), (3, 2), (4, 0), (4, 1), (4, 2)] n <class 'list'>\n"
     ]
    }
   ],
   "source": [
    "# Comprehensions can use as many input sequences and as many if as we want\n",
    "\n",
    "# it is nested for-loop  outer loop (corresponds to first for clause) -> inner\n",
    "x = [(x,y) for x in range(5) for y in range(3)]\n",
    "print(x, 'n', type(x))"
   ]
  },
  {
   "cell_type": "code",
   "execution_count": 10,
   "metadata": {
    "collapsed": false
   },
   "outputs": [
    {
     "name": "stdout",
     "output_type": "stream",
     "text": [
      "[1.0, 1.2, 1.5, 2.0, 3.0, 6.0, -6.0, -3.0, -2.0, 1.0, 1.1666666666666667, 1.4, 1.75, 2.3333333333333335, 3.5, 7.0, -7.0, -3.5, 1.0, 1.1428571428571428, 1.3333333333333333, 1.6, 2.0, 2.6666666666666665, 4.0, 8.0, -8.0, 1.0, 1.125, 1.2857142857142858, 1.5, 1.8, 2.25, 3.0, 4.5, 9.0] \n",
      " <class 'list'>\n"
     ]
    }
   ],
   "source": [
    "# Multipe if-else clauses\n",
    "\n",
    "values = [x/(x-y) for x in range(10) \n",
    "                  if x>5 \n",
    "                  for y in range(10) \n",
    "                  if x-y != 0]\n",
    "print(values, '\\n', type(values))\n"
   ]
  },
  {
   "cell_type": "code",
   "execution_count": 11,
   "metadata": {
    "collapsed": false
   },
   "outputs": [
    {
     "name": "stdout",
     "output_type": "stream",
     "text": [
      "[(1, 0), (2, 0), (2, 1), (3, 0), (3, 1), (3, 2), (4, 0), (4, 1), (4, 2), (4, 3), (5, 0), (5, 1), (5, 2), (5, 3), (5, 4), (6, 0), (6, 1), (6, 2), (6, 3), (6, 4), (6, 5), (7, 0), (7, 1), (7, 2), (7, 3), (7, 4), (7, 5), (7, 6), (8, 0), (8, 1), (8, 2), (8, 3), (8, 4), (8, 5), (8, 6), (8, 7), (9, 0), (9, 1), (9, 2), (9, 3), (9, 4), (9, 5), (9, 6), (9, 7), (9, 8)] \n",
      " <class 'list'>\n"
     ]
    }
   ],
   "source": [
    "# inner for clause can refer to variables of outer for clause\n",
    "y = [(x,y) for x in range(10) for y in range(x)]\n",
    "print(y, '\\n', type(y))"
   ]
  },
  {
   "cell_type": "markdown",
   "metadata": {},
   "source": [
    "# Nested Comprehensions"
   ]
  },
  {
   "cell_type": "code",
   "execution_count": 14,
   "metadata": {
    "collapsed": false
   },
   "outputs": [
    {
     "name": "stdout",
     "output_type": "stream",
     "text": [
      "[[], [0], [0, 3], [0, 3, 6], [0, 3, 6, 9], [0, 3, 6, 9, 12], [0, 3, 6, 9, 12, 15], [0, 3, 6, 9, 12, 15, 18], [0, 3, 6, 9, 12, 15, 18, 21], [0, 3, 6, 9, 12, 15, 18, 21, 24]] \n",
      " <class 'list'>\n"
     ]
    }
   ],
   "source": [
    "# produces a 2D list\n",
    "val = [[y*3 for y in range(x)] for x in range(10)]\n",
    "print(val, '\\n', type(val))\n"
   ]
  },
  {
   "cell_type": "markdown",
   "metadata": {},
   "source": [
    "# map() function"
   ]
  },
  {
   "cell_type": "code",
   "execution_count": 17,
   "metadata": {
    "collapsed": false
   },
   "outputs": [
    {
     "name": "stdout",
     "output_type": "stream",
     "text": [
      "[84, 104, 101, 32, 113, 117, 105, 99, 107, 32, 98, 114, 111, 119, 110, 32, 102, 111, 120]\n"
     ]
    }
   ],
   "source": [
    "# Apply a function to each element in a sequence, producing a new sequence - returns a map object (Lazy evaluation)\n",
    "\n",
    "# Finding unicode code for each element in a string\n",
    "\n",
    "print(list(map(ord, 'The quick brown fox')))\n",
    "\n"
   ]
  },
  {
   "cell_type": "code",
   "execution_count": 28,
   "metadata": {
    "collapsed": false
   },
   "outputs": [
    {
     "name": "stdout",
     "output_type": "stream",
     "text": [
      "Funciton not called yet\n",
      "<map object at 0x00000000058C8C18>\n",
      "Getting one element from map\n",
      "Calling <built-in function ord>\n",
      "49\n",
      "Unfolding the entire list:\n",
      "Calling <built-in function ord>\n",
      "Calling <built-in function ord>\n",
      "Calling <built-in function ord>\n",
      "Calling <built-in function ord>\n",
      "[50, 51, 52, 53]\n"
     ]
    }
   ],
   "source": [
    "\n",
    "# Trace is a funciton that detects the call made to function\n",
    "from tracer import Trace\n",
    "\n",
    "result = map(Trace()(ord), '12345')\n",
    "\n",
    "print('Funciton not called yet')\n",
    "print(result)\n",
    "\n",
    "print('Getting one element from map')\n",
    "print(next(result))\n",
    "\n",
    "print('Unfolding the entire list:')\n",
    "print(list(result))"
   ]
  },
  {
   "cell_type": "code",
   "execution_count": 31,
   "metadata": {
    "collapsed": false
   },
   "outputs": [
    {
     "name": "stdout",
     "output_type": "stream",
     "text": [
      "A small sized green koala was eating\n",
      "A medium sized blue bear was sitting\n"
     ]
    }
   ],
   "source": [
    "# map can accept as many input sequences \n",
    "# map ( func, sequence1, sequence 2, ....)\n",
    "\n",
    "sizes = ['small','medium']\n",
    "colors = ['green','blue']\n",
    "animals = ['koala','bear']\n",
    "actions = ['eating', 'sitting', 'running']\n",
    "def combine(size, color, animal, action):\n",
    "    return 'A {} sized {} {} was {}'.format(size, color, animal, action)\n",
    "\n",
    "result = map(combine, sizes, colors, animals, actions)\n",
    "\n",
    "print(next(result))\n",
    "\n",
    "for _ in result:\n",
    "    print(_)\n",
    "\n",
    "# will terminate if any of the input sequence terminates"
   ]
  },
  {
   "cell_type": "code",
   "execution_count": 34,
   "metadata": {
    "collapsed": false
   },
   "outputs": [
    {
     "name": "stdout",
     "output_type": "stream",
     "text": [
      "<filter object at 0x00000000057EAE10> \n",
      " <class 'filter'>\n",
      "[1, 6, 8]\n"
     ]
    }
   ],
   "source": [
    "# Filter\n",
    "# applies a function to each element and returns only those elements form original array that pass the function as True\n",
    "\n",
    "positives = filter(lambda x:x>0, [1,-5,0,6,-2,8])\n",
    "\n",
    "# returns a filter object - Lazy iterable\n",
    "print(positives, '\\n',type(positives))\n",
    "\n",
    "print(list(positives))\n",
    "\n",
    "# can pass None to remove all elements that evalueate to False"
   ]
  },
  {
   "cell_type": "code",
   "execution_count": 35,
   "metadata": {
    "collapsed": false
   },
   "outputs": [
    {
     "data": {
      "text/plain": [
       "15"
      ]
     },
     "execution_count": 35,
     "metadata": {},
     "output_type": "execute_result"
    }
   ],
   "source": [
    "# functools.reduce()\n",
    "# repeatedly apply a function to the elements of a sequence. reducing them to a single value\n",
    "\n",
    "from functools import reduce\n",
    "import operator\n",
    "\n",
    "reduce(operator.add, [1,2,3,4,5])"
   ]
  },
  {
   "cell_type": "code",
   "execution_count": 36,
   "metadata": {
    "collapsed": false
   },
   "outputs": [
    {
     "name": "stdout",
     "output_type": "stream",
     "text": [
      "mul 1 2\n",
      "mul 2 3\n",
      "mul 6 4\n",
      "mul 24 5\n",
      "mul 120 6\n",
      "mul 720 7\n",
      "mul 5040 8\n",
      "mul 40320 9\n"
     ]
    },
    {
     "data": {
      "text/plain": [
       "362880"
      ]
     },
     "execution_count": 36,
     "metadata": {},
     "output_type": "execute_result"
    }
   ],
   "source": [
    "# with custom function\n",
    "\n",
    "def mul (x,y):\n",
    "    print('mul {} {}'. format(x,y))\n",
    "    return x*y\n",
    "\n",
    "reduce(mul, range(1,10))"
   ]
  },
  {
   "cell_type": "code",
   "execution_count": 37,
   "metadata": {
    "collapsed": false
   },
   "outputs": [
    {
     "data": {
      "text/plain": [
       "1"
      ]
     },
     "execution_count": 37,
     "metadata": {},
     "output_type": "execute_result"
    }
   ],
   "source": [
    "# optional value can be supplied a s astarting point for accululator, which when supplied will not return value error when passed an empty input sequence\n",
    "\n",
    "reduce(mul, [], 1)"
   ]
  },
  {
   "cell_type": "code",
   "execution_count": 51,
   "metadata": {
    "collapsed": false
   },
   "outputs": [
    {
     "name": "stdout",
     "output_type": "stream",
     "text": [
      "{'it': 2, 'was': 2, 'the': 3, 'best': 1, 'of': 2, 'times,': 1, 'worst': 1, 'times.': 1, 'i': 2, 'went': 1, 'to': 2, 'woods': 1, 'because': 1, 'wished': 1, 'live': 1, 'deliberately': 1}\n"
     ]
    }
   ],
   "source": [
    "# Combining Map and Reduce\n",
    "# Counting words in a document\n",
    "\n",
    "def count_words(doc):\n",
    "    frequencies = {}\n",
    "    doc=doc.lower()\n",
    "    for w in doc.split():\n",
    "        frequencies[w] = frequencies.get(w,0) + 1\n",
    "    return frequencies\n",
    "\n",
    "def combine_counts(d1, d2):\n",
    "    res = d1.copy()\n",
    "    for key in d2:\n",
    "        res[key] = res.get(key,0)+d2.get(key,0)\n",
    "    return res\n",
    "\n",
    "\n",
    "documents = [\n",
    "    'It was the best of times, it was the worst of times.',\n",
    "    'I went to the woods because i wished to live deliberately'    \n",
    "]\n",
    "counts = map(count_words, documents)\n",
    "res = reduce(combine_counts, counts)\n",
    "print(res)"
   ]
  },
  {
   "cell_type": "markdown",
   "metadata": {},
   "source": [
    "# Iterables"
   ]
  },
  {
   "cell_type": "code",
   "execution_count": 56,
   "metadata": {
    "collapsed": false
   },
   "outputs": [
    {
     "name": "stdout",
     "output_type": "stream",
     "text": [
      "1\n"
     ]
    }
   ],
   "source": [
    "# Iterable : An object that implements the __iter__ method\n",
    "# __iter__ is required to return an iterator\n",
    "\n",
    "# Iterator : An Object which implements the iterable protocol (must implement __iter__ : usually this object's iter returns the object iteself)\n",
    "#            more importantly, it implements the __next__ method, which returns the next elements in the sequence\n",
    "#            must raise StopIteration when __next__ is exhausted\n",
    "\n",
    "class ExampleIterator:\n",
    "    def __init__(self):\n",
    "        self.index=0\n",
    "        self.data=[1,2,3]\n",
    "        \n",
    "    def __iter__(self):\n",
    "        return self\n",
    "    \n",
    "    def __next__(self):\n",
    "        if self.index >= len(self.data):\n",
    "            raise StopIteration()\n",
    "        else:\n",
    "            res = self.data[self.index]\n",
    "            self.index += 1\n",
    "            return res\n",
    "        \n",
    "\n",
    "ex = ExampleIterator()\n",
    "print(next(ex))\n"
   ]
  },
  {
   "cell_type": "code",
   "execution_count": 59,
   "metadata": {
    "collapsed": false
   },
   "outputs": [
    {
     "ename": "TypeError",
     "evalue": "'ExampleIterable' object does not support indexing",
     "output_type": "error",
     "traceback": [
      "\u001b[0;31m---------------------------------------------------------------------------\u001b[0m",
      "\u001b[0;31mTypeError\u001b[0m                                 Traceback (most recent call last)",
      "\u001b[0;32m<ipython-input-59-057bd709cce0>\u001b[0m in \u001b[0;36m<module>\u001b[0;34m()\u001b[0m\n\u001b[1;32m     26\u001b[0m         \u001b[1;32mreturn\u001b[0m \u001b[0mExampleIterator\u001b[0m\u001b[1;33m(\u001b[0m\u001b[0mself\u001b[0m\u001b[1;33m.\u001b[0m\u001b[0mdata\u001b[0m\u001b[1;33m)\u001b[0m\u001b[1;33m\u001b[0m\u001b[0m\n\u001b[1;32m     27\u001b[0m \u001b[1;33m\u001b[0m\u001b[0m\n\u001b[0;32m---> 28\u001b[0;31m \u001b[0mprint\u001b[0m\u001b[1;33m(\u001b[0m\u001b[0mExampleIterable\u001b[0m\u001b[1;33m(\u001b[0m\u001b[1;33m)\u001b[0m\u001b[1;33m[\u001b[0m\u001b[1;36m1\u001b[0m\u001b[1;33m]\u001b[0m\u001b[1;33m)\u001b[0m\u001b[1;33m\u001b[0m\u001b[0m\n\u001b[0m\u001b[1;32m     29\u001b[0m \u001b[1;33m\u001b[0m\u001b[0m\n\u001b[1;32m     30\u001b[0m \u001b[1;32mfor\u001b[0m \u001b[0mi\u001b[0m \u001b[1;32min\u001b[0m \u001b[0mExampleIterable\u001b[0m\u001b[1;33m(\u001b[0m\u001b[1;33m)\u001b[0m\u001b[1;33m:\u001b[0m\u001b[1;33m\u001b[0m\u001b[0m\n",
      "\u001b[0;31mTypeError\u001b[0m: 'ExampleIterable' object does not support indexing"
     ]
    }
   ],
   "source": [
    "# Iterable and Iterator protocol working together\n",
    "\n",
    "class ExampleIterator:\n",
    "    def __init__(self, data):\n",
    "        self.index=0\n",
    "        self.data=data\n",
    "        \n",
    "    def __iter__(self):\n",
    "        return self\n",
    "    \n",
    "    def __next__(self):\n",
    "        if self.index >= len(self.data):\n",
    "            raise StopIteration()\n",
    "        else:\n",
    "            res = self.data[self.index]\n",
    "            self.index += 1\n",
    "            return res\n",
    "\n",
    "        \n",
    "        \n",
    "class ExampleIterable:\n",
    "    def __init__(self):\n",
    "        self.data=[1,2,3]\n",
    "        \n",
    "    def __iter__(self):\n",
    "        return ExampleIterator(self.data)    \n",
    "        \n",
    "\n",
    "        \n",
    "for i in ExampleIterable():\n",
    "    print(i)\n"
   ]
  },
  {
   "cell_type": "code",
   "execution_count": 60,
   "metadata": {
    "collapsed": false
   },
   "outputs": [
    {
     "name": "stdout",
     "output_type": "stream",
     "text": [
      "[1, 2, 3]\n"
     ]
    }
   ],
   "source": [
    "# Alternative Iterable protocol\n",
    "# works with any opject that supports consecutive integer indexing via __getitem__(), must raise IndexError when exhausted\n",
    "\n",
    "\n",
    "class AlternativeIterable:\n",
    "    def __init__(self):\n",
    "        self.data = [1, 2, 3]\n",
    "        \n",
    "    def __getitem__(self, index):\n",
    "        return self.data[index] # Raises index error by default\n",
    "    \n",
    "print([i for i in AlternativeIterable()])\n"
   ]
  },
  {
   "cell_type": "code",
   "execution_count": 64,
   "metadata": {
    "collapsed": false
   },
   "outputs": [
    {
     "name": "stdout",
     "output_type": "stream",
     "text": [
      "<callable_iterator object at 0x00000000058CE5C0>\n"
     ]
    }
   ],
   "source": [
    "# Extended iter()\n",
    "\n",
    "# iter(callable, sentinel)\n",
    "# Callable is a function that takes zero arguments and returns something\n",
    "# sentinel is the value which, if is equal to the returned value from callable then the iteration stops\n",
    "# Use : infinite sequence iterator \n",
    "\n",
    "# Example : \n",
    "import datetime\n",
    "i = iter(datetime.datetime.now, None)\n",
    "\n",
    "print(i)"
   ]
  },
  {
   "cell_type": "code",
   "execution_count": 65,
   "metadata": {
    "collapsed": false
   },
   "outputs": [
    {
     "name": "stdout",
     "output_type": "stream",
     "text": [
      "You should\n",
      "see this\n",
      "text.\n"
     ]
    }
   ],
   "source": [
    "with open('example_text.txt', 'rt') as f:\n",
    "    for line in iter(lambda: f.readline().strip(), 'END'):\n",
    "        print(line)"
   ]
  },
  {
   "cell_type": "markdown",
   "metadata": {},
   "source": [
    "# Duck Tail"
   ]
  },
  {
   "cell_type": "code",
   "execution_count": 68,
   "metadata": {
    "collapsed": false
   },
   "outputs": [],
   "source": [
    "# Real world iterables\n",
    "\n",
    "# simulationg a sensor\n",
    "import datetime\n",
    "import itertools\n",
    "import time\n",
    "import random\n",
    "\n",
    "class Sensor:\n",
    "    def __iter__(self):\n",
    "        return self\n",
    "    \n",
    "    def __next__(self):\n",
    "        return random.random()\n",
    "    \n",
    "    \n",
    "sensor = Sensor()\n",
    "timestamp = iter(datetime.datetime.now, None)\n",
    "\n",
    "for stamp, value in itertools.islice(zip(timestamp, sensor), 10):\n",
    "    print(stamp, value)\n",
    "    time.sleep(1)\n",
    "    "
   ]
  },
  {
   "cell_type": "code",
   "execution_count": null,
   "metadata": {
    "collapsed": true
   },
   "outputs": [],
   "source": []
  }
 ],
 "metadata": {
  "kernelspec": {
   "display_name": "Python 3",
   "language": "python",
   "name": "python3"
  },
  "language_info": {
   "codemirror_mode": {
    "name": "ipython",
    "version": 3
   },
   "file_extension": ".py",
   "mimetype": "text/x-python",
   "name": "python",
   "nbconvert_exporter": "python",
   "pygments_lexer": "ipython3",
   "version": "3.6.0"
  }
 },
 "nbformat": 4,
 "nbformat_minor": 2
}
