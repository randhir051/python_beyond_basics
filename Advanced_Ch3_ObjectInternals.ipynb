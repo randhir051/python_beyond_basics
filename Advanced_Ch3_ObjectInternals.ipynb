{
 "cells": [
  {
   "cell_type": "code",
   "execution_count": 3,
   "metadata": {},
   "outputs": [],
   "source": [
    "# _dict__ provides a dictionary with attributes of the instance -> vars()"
   ]
  },
  {
   "cell_type": "code",
   "execution_count": 3,
   "metadata": {},
   "outputs": [],
   "source": [
    "class Vector:\n",
    "    def __init__(self,**coords):\n",
    "        self.__dict__.update(coords)\n",
    "        \n",
    "    def __repr__(self):\n",
    "        return 'Vector : ' + ', '.join( '{}={}'.format(key, value) for key, value in self.__dict__.items()  )\n",
    "    \n",
    "    # Overriding  \n",
    "    def __setattr__(self, name, value):\n",
    "        raise AttributeError(\"Can't set value {}\".format(name))        \n",
    "    \n",
    "    def __delattr__(self, name, value):\n",
    "        raise AttributeError(\"Can't delete value {}\".format(name))\n",
    "        \n",
    "    def __getattr__(self, name):\n",
    "        return self.__dict__[name]\n",
    "        "
   ]
  },
  {
   "cell_type": "code",
   "execution_count": 4,
   "metadata": {},
   "outputs": [
    {
     "name": "stdout",
     "output_type": "stream",
     "text": [
      "Can't set value p\n",
      "Can't set value new_var\n",
      "Vector : Vector : a=123, z=123\n"
     ]
    }
   ],
   "source": [
    "v=Vector(a=2)\n",
    "\n",
    "\n",
    "# adding poperty using setattr - will throw error \n",
    "try:\n",
    "    setattr(v,'p',23)\n",
    "except AttributeError as a:\n",
    "    print(a)\n",
    "\n",
    "# adding poperty using assignment - will also  throw error \n",
    "try:\n",
    "    v.new_var = 12\n",
    "except AttributeError as a:\n",
    "    print(a)\n",
    "\n",
    "    \n",
    "# additng property using the __dict__ - still allowed (can store internally as _a and expect users will leave it as private attribute)\n",
    "v.__dict__['z']=123\n",
    "v.__dict__['a']=123\n",
    "\n",
    "print('Vector :', v)"
   ]
  },
  {
   "cell_type": "code",
   "execution_count": 5,
   "metadata": {},
   "outputs": [
    {
     "data": {
      "text/plain": [
       "{'a': 123, 'z': 123}"
      ]
     },
     "execution_count": 5,
     "metadata": {},
     "output_type": "execute_result"
    }
   ],
   "source": [
    "vars(v)"
   ]
  },
  {
   "cell_type": "code",
   "execution_count": 52,
   "metadata": {},
   "outputs": [],
   "source": [
    "class LoggingProxy:\n",
    "    \n",
    "    def __init__(self, target):\n",
    "        # We're storing the target variable in the super class because we are going to override the getattribute \n",
    "        # (which will cause ALL the attribute lookups within the derived class to route to the overriden method)\n",
    "        # meaning all self. calls will cause infinite recursion\n",
    "        super().__setattr__('target', target)\n",
    "        \n",
    "        \n",
    "    def __getattribute__(self, name):\n",
    "        target = super().__getattribute__('target')\n",
    "        try:\n",
    "            # Delegating to getattr of the target\n",
    "            value = getattr(target, name)\n",
    "        except KeyError as e:\n",
    "            raise AttributeError('{} could not forward request {} to {}'.format(\n",
    "                super().__getattribute__('__class__').__name__,\n",
    "                name,\n",
    "                target                \n",
    "            ))        \n",
    "        print('Retrieved attribute {!r} = {!r} from {!r}'.format(name, value, target))\n",
    "        return value\n",
    "    \n",
    "    def __setattr__(self, name, value):\n",
    "        target = super().__getattribute__('target')\n",
    "        try:\n",
    "            # Delegating to setattr of the target\n",
    "            setattr(target, name, value)\n",
    "        except KeyError as e:\n",
    "            raise AttributeError('{} could not forward request {} to {}'.format(\n",
    "                super().__getattribute__('__class__').__name__,\n",
    "                name,\n",
    "                target                \n",
    "            ))        \n",
    "        print('Set attribute {!r} = {!r} on {!r}'.format(name, value, target))\n",
    "        \n",
    "    # overriding repr to route to underlying object\n",
    "    def __repr__(self):\n",
    "        target = super().__getattribute__('target')\n",
    "        #repr_callable = getattr(target, '__repr__')\n",
    "        return target.__repr__()"
   ]
  },
  {
   "cell_type": "code",
   "execution_count": 39,
   "metadata": {},
   "outputs": [
    {
     "name": "stdout",
     "output_type": "stream",
     "text": [
      "Retrieved attribute '__class__' = <class '__main__.Vector'> from Vector : a=12, z=123, c=12, t=12\n",
      "Retrieved attribute '__class__' = <class '__main__.Vector'> from Vector : a=12, z=123, c=12, t=12\n",
      "Retrieved attribute '__class__' = <class '__main__.Vector'> from Vector : a=12, z=123, c=12, t=12\n",
      "Retrieved attribute '__class__' = <class '__main__.Vector'> from Vector : a=12, z=123, c=12, t=12\n",
      "Retrieved attribute '__class__' = <class '__main__.Vector'> from Vector : a=12, z=123, c=12, t=12\n",
      "Retrieved attribute '__class__' = <class '__main__.Vector'> from Vector : a=12, z=123, c=12, t=12\n"
     ]
    }
   ],
   "source": [
    "proxy = LoggingProxy(v)"
   ]
  },
  {
   "cell_type": "code",
   "execution_count": 40,
   "metadata": {},
   "outputs": [
    {
     "name": "stdout",
     "output_type": "stream",
     "text": [
      "Retrieved attribute 'a' = 12 from Vector : a=12, z=123, c=12, t=12\n",
      "12\n"
     ]
    }
   ],
   "source": [
    "x = proxy.a\n",
    "print(x)"
   ]
  },
  {
   "cell_type": "code",
   "execution_count": 41,
   "metadata": {},
   "outputs": [
    {
     "ename": "AttributeError",
     "evalue": "LoggingProxy could not forward request v3 to Vector : a=12, z=123, c=12, t=12",
     "output_type": "error",
     "traceback": [
      "\u001b[1;31m---------------------------------------------------------------------------\u001b[0m",
      "\u001b[1;31mKeyError\u001b[0m                                  Traceback (most recent call last)",
      "\u001b[1;32m<ipython-input-38-7d81132b1b2e>\u001b[0m in \u001b[0;36m__getattribute__\u001b[1;34m(self, name)\u001b[0m\n\u001b[0;32m     13\u001b[0m             \u001b[1;31m# Delegating to getattr of the target\u001b[0m\u001b[1;33m\u001b[0m\u001b[1;33m\u001b[0m\u001b[0m\n\u001b[1;32m---> 14\u001b[1;33m             \u001b[0mvalue\u001b[0m \u001b[1;33m=\u001b[0m \u001b[0mgetattr\u001b[0m\u001b[1;33m(\u001b[0m\u001b[0mtarget\u001b[0m\u001b[1;33m,\u001b[0m \u001b[0mname\u001b[0m\u001b[1;33m)\u001b[0m\u001b[1;33m\u001b[0m\u001b[0m\n\u001b[0m\u001b[0;32m     15\u001b[0m         \u001b[1;32mexcept\u001b[0m \u001b[0mKeyError\u001b[0m \u001b[1;32mas\u001b[0m \u001b[0me\u001b[0m\u001b[1;33m:\u001b[0m\u001b[1;33m\u001b[0m\u001b[0m\n",
      "\u001b[1;32m<ipython-input-3-64ee532aeb42>\u001b[0m in \u001b[0;36m__getattr__\u001b[1;34m(self, name)\u001b[0m\n\u001b[0;32m     15\u001b[0m     \u001b[1;32mdef\u001b[0m \u001b[0m__getattr__\u001b[0m\u001b[1;33m(\u001b[0m\u001b[0mself\u001b[0m\u001b[1;33m,\u001b[0m \u001b[0mname\u001b[0m\u001b[1;33m)\u001b[0m\u001b[1;33m:\u001b[0m\u001b[1;33m\u001b[0m\u001b[0m\n\u001b[1;32m---> 16\u001b[1;33m         \u001b[1;32mreturn\u001b[0m \u001b[0mself\u001b[0m\u001b[1;33m.\u001b[0m\u001b[0m__dict__\u001b[0m\u001b[1;33m[\u001b[0m\u001b[0mname\u001b[0m\u001b[1;33m]\u001b[0m\u001b[1;33m\u001b[0m\u001b[0m\n\u001b[0m\u001b[0;32m     17\u001b[0m \u001b[1;33m\u001b[0m\u001b[0m\n",
      "\u001b[1;31mKeyError\u001b[0m: 'v3'",
      "\nDuring handling of the above exception, another exception occurred:\n",
      "\u001b[1;31mAttributeError\u001b[0m                            Traceback (most recent call last)",
      "\u001b[1;32m<ipython-input-41-ccbb297a87d9>\u001b[0m in \u001b[0;36m<module>\u001b[1;34m\u001b[0m\n\u001b[1;32m----> 1\u001b[1;33m \u001b[0my\u001b[0m \u001b[1;33m=\u001b[0m \u001b[0mproxy\u001b[0m\u001b[1;33m.\u001b[0m\u001b[0mv3\u001b[0m\u001b[1;33m\u001b[0m\u001b[0m\n\u001b[0m\u001b[0;32m      2\u001b[0m \u001b[0mprint\u001b[0m\u001b[1;33m(\u001b[0m\u001b[0my\u001b[0m\u001b[1;33m)\u001b[0m\u001b[1;33m\u001b[0m\u001b[0m\n",
      "\u001b[1;32m<ipython-input-38-7d81132b1b2e>\u001b[0m in \u001b[0;36m__getattribute__\u001b[1;34m(self, name)\u001b[0m\n\u001b[0;32m     17\u001b[0m                 \u001b[0msuper\u001b[0m\u001b[1;33m(\u001b[0m\u001b[1;33m)\u001b[0m\u001b[1;33m.\u001b[0m\u001b[0m__getattribute__\u001b[0m\u001b[1;33m(\u001b[0m\u001b[1;34m'__class__'\u001b[0m\u001b[1;33m)\u001b[0m\u001b[1;33m.\u001b[0m\u001b[0m__name__\u001b[0m\u001b[1;33m,\u001b[0m\u001b[1;33m\u001b[0m\u001b[0m\n\u001b[0;32m     18\u001b[0m                 \u001b[0mname\u001b[0m\u001b[1;33m,\u001b[0m\u001b[1;33m\u001b[0m\u001b[0m\n\u001b[1;32m---> 19\u001b[1;33m                 \u001b[0mtarget\u001b[0m\u001b[1;33m\u001b[0m\u001b[0m\n\u001b[0m\u001b[0;32m     20\u001b[0m             ))        \n\u001b[0;32m     21\u001b[0m         \u001b[0mprint\u001b[0m\u001b[1;33m(\u001b[0m\u001b[1;34m'Retrieved attribute {!r} = {!r} from {!r}'\u001b[0m\u001b[1;33m.\u001b[0m\u001b[0mformat\u001b[0m\u001b[1;33m(\u001b[0m\u001b[0mname\u001b[0m\u001b[1;33m,\u001b[0m \u001b[0mvalue\u001b[0m\u001b[1;33m,\u001b[0m \u001b[0mtarget\u001b[0m\u001b[1;33m)\u001b[0m\u001b[1;33m)\u001b[0m\u001b[1;33m\u001b[0m\u001b[0m\n",
      "\u001b[1;31mAttributeError\u001b[0m: LoggingProxy could not forward request v3 to Vector : a=12, z=123, c=12, t=12"
     ]
    }
   ],
   "source": [
    "y = proxy.v3\n",
    "print(y)"
   ]
  },
  {
   "cell_type": "code",
   "execution_count": 42,
   "metadata": {},
   "outputs": [
    {
     "name": "stdout",
     "output_type": "stream",
     "text": [
      "Retrieved attribute '__dict__' = {'a': 12, 'z': 123, 'c': 12, 't': 12} from Vector : a=12, z=123, c=12, t=12\n"
     ]
    }
   ],
   "source": [
    "proxy.__dict__['t'] = 12"
   ]
  },
  {
   "cell_type": "code",
   "execution_count": 43,
   "metadata": {},
   "outputs": [
    {
     "name": "stdout",
     "output_type": "stream",
     "text": [
      "Retrieved attribute '__dict__' = {'a': 12, 'z': 123, 'c': 12, 't': 12} from Vector : a=12, z=123, c=12, t=12\n"
     ]
    },
    {
     "data": {
      "text/plain": [
       "{'a': 12, 'z': 123, 'c': 12, 't': 12}"
      ]
     },
     "execution_count": 43,
     "metadata": {},
     "output_type": "execute_result"
    }
   ],
   "source": [
    "proxy.__dict__"
   ]
  },
  {
   "cell_type": "code",
   "execution_count": 44,
   "metadata": {},
   "outputs": [],
   "source": [
    "# Above statement, we were able to fetch __dict__ from and set a value in it, overriding the setattr behaviour  "
   ]
  },
  {
   "cell_type": "code",
   "execution_count": 45,
   "metadata": {
    "scrolled": true
   },
   "outputs": [
    {
     "ename": "AttributeError",
     "evalue": "Can't set value a",
     "output_type": "error",
     "traceback": [
      "\u001b[1;31m---------------------------------------------------------------------------\u001b[0m",
      "\u001b[1;31mAttributeError\u001b[0m                            Traceback (most recent call last)",
      "\u001b[1;32m<ipython-input-45-10ca85491064>\u001b[0m in \u001b[0;36m<module>\u001b[1;34m\u001b[0m\n\u001b[1;32m----> 1\u001b[1;33m \u001b[0mproxy\u001b[0m\u001b[1;33m.\u001b[0m\u001b[0ma\u001b[0m \u001b[1;33m=\u001b[0m \u001b[1;36m0\u001b[0m\u001b[1;33m\u001b[0m\u001b[0m\n\u001b[0m",
      "\u001b[1;32m<ipython-input-38-7d81132b1b2e>\u001b[0m in \u001b[0;36m__setattr__\u001b[1;34m(self, name, value)\u001b[0m\n\u001b[0;32m     26\u001b[0m         \u001b[1;32mtry\u001b[0m\u001b[1;33m:\u001b[0m\u001b[1;33m\u001b[0m\u001b[0m\n\u001b[0;32m     27\u001b[0m             \u001b[1;31m# Delegating to setattr of the target\u001b[0m\u001b[1;33m\u001b[0m\u001b[1;33m\u001b[0m\u001b[0m\n\u001b[1;32m---> 28\u001b[1;33m             \u001b[0msetattr\u001b[0m\u001b[1;33m(\u001b[0m\u001b[0mtarget\u001b[0m\u001b[1;33m,\u001b[0m \u001b[0mname\u001b[0m\u001b[1;33m,\u001b[0m \u001b[0mvalue\u001b[0m\u001b[1;33m)\u001b[0m\u001b[1;33m\u001b[0m\u001b[0m\n\u001b[0m\u001b[0;32m     29\u001b[0m         \u001b[1;32mexcept\u001b[0m \u001b[0mKeyError\u001b[0m \u001b[1;32mas\u001b[0m \u001b[0me\u001b[0m\u001b[1;33m:\u001b[0m\u001b[1;33m\u001b[0m\u001b[0m\n\u001b[0;32m     30\u001b[0m             raise AttributeError('{} could not forward request {} to {}'.format(\n",
      "\u001b[1;32m<ipython-input-3-64ee532aeb42>\u001b[0m in \u001b[0;36m__setattr__\u001b[1;34m(self, name, value)\u001b[0m\n\u001b[0;32m      8\u001b[0m     \u001b[1;31m# Overriding\u001b[0m\u001b[1;33m\u001b[0m\u001b[1;33m\u001b[0m\u001b[0m\n\u001b[0;32m      9\u001b[0m     \u001b[1;32mdef\u001b[0m \u001b[0m__setattr__\u001b[0m\u001b[1;33m(\u001b[0m\u001b[0mself\u001b[0m\u001b[1;33m,\u001b[0m \u001b[0mname\u001b[0m\u001b[1;33m,\u001b[0m \u001b[0mvalue\u001b[0m\u001b[1;33m)\u001b[0m\u001b[1;33m:\u001b[0m\u001b[1;33m\u001b[0m\u001b[0m\n\u001b[1;32m---> 10\u001b[1;33m         \u001b[1;32mraise\u001b[0m \u001b[0mAttributeError\u001b[0m\u001b[1;33m(\u001b[0m\u001b[1;34m\"Can't set value {}\"\u001b[0m\u001b[1;33m.\u001b[0m\u001b[0mformat\u001b[0m\u001b[1;33m(\u001b[0m\u001b[0mname\u001b[0m\u001b[1;33m)\u001b[0m\u001b[1;33m)\u001b[0m\u001b[1;33m\u001b[0m\u001b[0m\n\u001b[0m\u001b[0;32m     11\u001b[0m \u001b[1;33m\u001b[0m\u001b[0m\n\u001b[0;32m     12\u001b[0m     \u001b[1;32mdef\u001b[0m \u001b[0m__delattr__\u001b[0m\u001b[1;33m(\u001b[0m\u001b[0mself\u001b[0m\u001b[1;33m,\u001b[0m \u001b[0mname\u001b[0m\u001b[1;33m,\u001b[0m \u001b[0mvalue\u001b[0m\u001b[1;33m)\u001b[0m\u001b[1;33m:\u001b[0m\u001b[1;33m\u001b[0m\u001b[0m\n",
      "\u001b[1;31mAttributeError\u001b[0m: Can't set value a"
     ]
    }
   ],
   "source": [
    "proxy.a = 0 # Raises attribute error - meaning a successful route to base class's setattr"
   ]
  },
  {
   "cell_type": "code",
   "execution_count": 46,
   "metadata": {},
   "outputs": [
    {
     "name": "stdout",
     "output_type": "stream",
     "text": [
      "Retrieved attribute 'a' = 12 from Vector : a=12, z=123, c=12, t=12\n"
     ]
    },
    {
     "data": {
      "text/plain": [
       "12"
      ]
     },
     "execution_count": 46,
     "metadata": {},
     "output_type": "execute_result"
    }
   ],
   "source": [
    "proxy.a"
   ]
  },
  {
   "cell_type": "code",
   "execution_count": 47,
   "metadata": {},
   "outputs": [
    {
     "name": "stdout",
     "output_type": "stream",
     "text": [
      "Retrieved attribute '__repr__' = <bound method Vector.__repr__ of Vector : a=12, z=123, c=12, t=12> from Vector : a=12, z=123, c=12, t=12\n"
     ]
    },
    {
     "data": {
      "text/plain": [
       "'Vector : a=12, z=123, c=12, t=12'"
      ]
     },
     "execution_count": 47,
     "metadata": {},
     "output_type": "execute_result"
    }
   ],
   "source": [
    "# Attribute Lookup for speciual methods\n",
    "\n",
    "proxy.__repr__() # this will invoke the underlying object's repr as the . (dot operator) is used"
   ]
  },
  {
   "cell_type": "code",
   "execution_count": 48,
   "metadata": {},
   "outputs": [
    {
     "data": {
      "text/plain": [
       "'<__main__.LoggingProxy object at 0x0000000005572C50>'"
      ]
     },
     "execution_count": 48,
     "metadata": {},
     "output_type": "execute_result"
    }
   ],
   "source": [
    "# But when we use the builtin repr function on proxy object, it does not invoke the underlying object's __repr__\n",
    "repr(proxy)"
   ]
  },
  {
   "cell_type": "code",
   "execution_count": 53,
   "metadata": {},
   "outputs": [
    {
     "data": {
      "text/plain": [
       "'Vector : a=12, z=123, c=12, t=12'"
      ]
     },
     "execution_count": 53,
     "metadata": {},
     "output_type": "execute_result"
    }
   ],
   "source": [
    "# len(), iter(), repr() will all bypass getattribute due to performance reasons\n",
    "# we will have to override these special funcitons to be able to route to the underlying objevt's respective method\n",
    "proxy2 = LoggingProxy(v)\n",
    "repr(proxy2)"
   ]
  },
  {
   "cell_type": "code",
   "execution_count": 65,
   "metadata": {},
   "outputs": [
    {
     "name": "stdout",
     "output_type": "stream",
     "text": [
      "Retrieved attribute '__dict__' = {'a': 12, 'z': 123, 'c': 12, 't': 12} from Vector : a=12, z=123, c=12, t=12\n"
     ]
    },
    {
     "data": {
      "text/plain": [
       "'Vector : a=12, z=123, c=12, t=12'"
      ]
     },
     "execution_count": 65,
     "metadata": {},
     "output_type": "execute_result"
    }
   ],
   "source": [
    "# Where are the methods\n",
    "\n",
    "v.__class__.__dict__['__repr__'](proxy2)\n",
    "# The above line just called the repr function of v through it's class's dict to get the repr function \n",
    "# then I pass it the proxy object, \n",
    "# inside the repr of v, we are fetching the __dict__ object, that calls the getattribute function, which is \n",
    "# directing the calls to it's proxy object which also happens to be 'v', the dict is retrieved and then \n",
    "# pretty printed by the repr funciton of the Vector class\n",
    "# he he he :P"
   ]
  },
  {
   "cell_type": "code",
   "execution_count": 67,
   "metadata": {},
   "outputs": [
    {
     "name": "stdout",
     "output_type": "stream",
     "text": [
      "123456\n"
     ]
    }
   ],
   "source": [
    "setattr(v.__class__, 'some_static_data', 123456)\n",
    "print(Vector.some_static_data)"
   ]
  },
  {
   "cell_type": "code",
   "execution_count": 74,
   "metadata": {},
   "outputs": [
    {
     "name": "stdout",
     "output_type": "stream",
     "text": [
      "Vector:  56\n",
      "Dict:  240\n"
     ]
    }
   ],
   "source": [
    "# Trading Size for Dynamism with Slots\n",
    "import sys\n",
    "print('Vector: ',sys.getsizeof(v))\n",
    "d = {}\n",
    "print('Dict: ',sys.getsizeof(d))"
   ]
  },
  {
   "cell_type": "code",
   "execution_count": 76,
   "metadata": {},
   "outputs": [],
   "source": [
    "class Resistor:\n",
    "    def __init__(self, resistance_ohms, tolerance_percent, power_watts):\n",
    "        self.resistance_ohms = resistance_ohms\n",
    "        self.tolerance_percent = tolerance_percent\n",
    "        self.power_watts = power_watts\n",
    "\n",
    "class ResistorWithSlots:    \n",
    "    # These are the attributes we expect - use with caution\n",
    "    __slots__ = ['resistance_ohms', 'tolerance_percent', 'power_watts']\n",
    "    def __init__(self, resistance_ohms, tolerance_percent, power_watts):\n",
    "        self.resistance_ohms = resistance_ohms\n",
    "        self.tolerance_percent = tolerance_percent\n",
    "        self.power_watts = power_watts"
   ]
  },
  {
   "cell_type": "code",
   "execution_count": 84,
   "metadata": {},
   "outputs": [
    {
     "name": "stdout",
     "output_type": "stream",
     "text": [
      "Object without slots : 112\n",
      "Object with slots : 64\n"
     ]
    }
   ],
   "source": [
    "r1 = Resistor(1.234, 123423.1, 1231)\n",
    "r2 = ResistorWithSlots(1.234, 123423.1, 1231)\n",
    "\n",
    "print('Object without slots :',sys.getsizeof(r1.__dict__))\n",
    "print('Object with slots :',sys.getsizeof(r2))"
   ]
  },
  {
   "cell_type": "code",
   "execution_count": 85,
   "metadata": {},
   "outputs": [
    {
     "data": {
      "text/plain": [
       "['__class__',\n",
       " '__delattr__',\n",
       " '__dir__',\n",
       " '__doc__',\n",
       " '__eq__',\n",
       " '__format__',\n",
       " '__ge__',\n",
       " '__getattribute__',\n",
       " '__gt__',\n",
       " '__hash__',\n",
       " '__init__',\n",
       " '__init_subclass__',\n",
       " '__le__',\n",
       " '__lt__',\n",
       " '__module__',\n",
       " '__ne__',\n",
       " '__new__',\n",
       " '__reduce__',\n",
       " '__reduce_ex__',\n",
       " '__repr__',\n",
       " '__setattr__',\n",
       " '__sizeof__',\n",
       " '__slots__',\n",
       " '__str__',\n",
       " '__subclasshook__',\n",
       " 'power_watts',\n",
       " 'resistance_ohms',\n",
       " 'tolerance_percent']"
      ]
     },
     "execution_count": 85,
     "metadata": {},
     "output_type": "execute_result"
    }
   ],
   "source": [
    "# There is no __dict__ in the slots object\n",
    "dir(r2)"
   ]
  },
  {
   "cell_type": "code",
   "execution_count": null,
   "metadata": {},
   "outputs": [],
   "source": []
  }
 ],
 "metadata": {
  "kernelspec": {
   "display_name": "Python 3",
   "language": "python",
   "name": "python3"
  },
  "language_info": {
   "codemirror_mode": {
    "name": "ipython",
    "version": 3
   },
   "file_extension": ".py",
   "mimetype": "text/x-python",
   "name": "python",
   "nbconvert_exporter": "python",
   "pygments_lexer": "ipython3",
   "version": "3.7.0"
  }
 },
 "nbformat": 4,
 "nbformat_minor": 2
}
