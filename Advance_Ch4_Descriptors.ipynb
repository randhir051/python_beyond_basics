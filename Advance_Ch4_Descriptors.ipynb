{
 "cells": [
  {
   "cell_type": "code",
   "execution_count": 25,
   "metadata": {},
   "outputs": [],
   "source": [
    "# Properties as Descriptors\n",
    "\n",
    "\n",
    "# Class implementing Descriptor protocol\n",
    "class Constraints:\n",
    "    \n",
    "    def __init__(self):\n",
    "        # This dictionary will store data with instance as key\n",
    "        self.data = {}\n",
    "    \n",
    "    def __get__(self, instance, owner):\n",
    "        return self.data[instance]\n",
    "        \n",
    "    def __set__(self, instance, value):\n",
    "        if value < 0 :\n",
    "            raise ValueError('Should only be positive')\n",
    "        self.data[instance] = value\n",
    "    \n",
    "    def __delete__(self,instance):\n",
    "        self.data.pop(instance)\n",
    "    \n",
    "\n",
    "\n",
    "class Planet:\n",
    "    def __init__(self,radius,mass):\n",
    "        self.radius=radius\n",
    "        self.mass=mass\n",
    "        \n",
    "    # The Descriptor object will be bound to radius at the time of class creation and it will store \n",
    "    # all the radii of every Planet object created.\n",
    "    radius = Constraints()    \n",
    "    mass = Constraints()\n",
    "    \n",
    "        \n",
    "    \n",
    "    \n",
    "        "
   ]
  },
  {
   "cell_type": "code",
   "execution_count": 31,
   "metadata": {},
   "outputs": [],
   "source": [
    "p = Planet(2,4)\n",
    "p = Planet(10,667)\n"
   ]
  },
  {
   "cell_type": "code",
   "execution_count": 34,
   "metadata": {},
   "outputs": [
    {
     "data": {
      "text/plain": [
       "['__class__',\n",
       " '__delattr__',\n",
       " '__dict__',\n",
       " '__dir__',\n",
       " '__doc__',\n",
       " '__eq__',\n",
       " '__format__',\n",
       " '__ge__',\n",
       " '__getattribute__',\n",
       " '__gt__',\n",
       " '__hash__',\n",
       " '__init__',\n",
       " '__init_subclass__',\n",
       " '__le__',\n",
       " '__lt__',\n",
       " '__module__',\n",
       " '__ne__',\n",
       " '__new__',\n",
       " '__reduce__',\n",
       " '__reduce_ex__',\n",
       " '__repr__',\n",
       " '__setattr__',\n",
       " '__sizeof__',\n",
       " '__str__',\n",
       " '__subclasshook__',\n",
       " '__weakref__',\n",
       " 'mass',\n",
       " 'radius']"
      ]
     },
     "execution_count": 34,
     "metadata": {},
     "output_type": "execute_result"
    }
   ],
   "source": [
    "dir(p)"
   ]
  },
  {
   "cell_type": "code",
   "execution_count": null,
   "metadata": {},
   "outputs": [],
   "source": [
    "# Data Descriptors - are both readable/writable - __get__ __set__ and __delete__ are defined\n",
    "# Non-data Descriptors - only getter is defined\n",
    "\n",
    "# Attribute lookup presedence \n",
    "\n",
    "# 1. Data Descriptors\n",
    "# 2. instance attributes in __dict__ \n",
    "# 3. Non data descriptors"
   ]
  },
  {
   "cell_type": "code",
   "execution_count": 30,
   "metadata": {},
   "outputs": [
    {
     "name": "stdout",
     "output_type": "stream",
     "text": [
      "Data Descriptor Lookup\n",
      "None\n",
      "Data Descriptor Lookup\n",
      "None\n",
      "Non-Data Descriptor Lookup\n",
      "None\n",
      "321\n"
     ]
    }
   ],
   "source": [
    "# Example:\n",
    "\n",
    "\n",
    "class DataDescriptor:\n",
    "    \n",
    "    def __get__(self, instance, owner):\n",
    "        print('Data Descriptor Lookup')\n",
    "        \n",
    "    def __set__(self, instance, owner):\n",
    "        print('Data Descriptor Lookup')\n",
    "    \n",
    "\n",
    "class NonDataDescriptor:\n",
    "    \n",
    "    def __get__(self, instance, owner):\n",
    "        print('Non-Data Descriptor Lookup')\n",
    "        \n",
    "    \n",
    "class Owner:\n",
    "    a = DataDescriptor()\n",
    "    b = NonDataDescriptor()\n",
    "    \n",
    "    \n",
    "x = Owner()\n",
    "print(x.a) # First calling a data descriptor \n",
    "x.__dict__['a'] = 123\n",
    "print(x.a)\n",
    "\n",
    "print(x.b)\n",
    "x.__dict__['b'] = 321\n",
    "print(x.b)\n",
    "\n"
   ]
  },
  {
   "cell_type": "code",
   "execution_count": null,
   "metadata": {},
   "outputs": [],
   "source": []
  }
 ],
 "metadata": {
  "kernelspec": {
   "display_name": "Python 3",
   "language": "python",
   "name": "python3"
  },
  "language_info": {
   "codemirror_mode": {
    "name": "ipython",
    "version": 3
   },
   "file_extension": ".py",
   "mimetype": "text/x-python",
   "name": "python",
   "nbconvert_exporter": "python",
   "pygments_lexer": "ipython3",
   "version": "3.6.4"
  }
 },
 "nbformat": 4,
 "nbformat_minor": 2
}
