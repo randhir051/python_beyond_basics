{
 "cells": [
  {
   "cell_type": "code",
   "execution_count": 2,
   "metadata": {},
   "outputs": [
    {
     "name": "stderr",
     "output_type": "stream",
     "text": [
      "..\n",
      "----------------------------------------------------------------------\n",
      "Ran 2 tests in 0.005s\n",
      "\n",
      "OK\n"
     ]
    }
   ],
   "source": [
    "import unittest\n",
    "\n",
    "def iscomment(item):\n",
    "    return isinstance(item,str) and item.startswith('#')\n",
    "\n",
    "class ProgramTest(unittest.TestCase):\n",
    "    \n",
    "    def test_comment_func_positive(self):\n",
    "        self.assertTrue(iscomment('# This is supposed to be a comment'))\n",
    "        \n",
    "    def test_comment_func_negative(self):\n",
    "        self.assertFalse(iscomment('This is NOT supposed to be a comment'))\n",
    "    \n",
    "    \n",
    "\n",
    "def stack_operation(stack):\n",
    "    \n",
    "    while stack:\n",
    "        \n",
    "    \n",
    "    \n",
    "    \n",
    "    \n",
    "if __name__ == \"__main__\":\n",
    "#    unittest.main(PhoneBookTest())        \n",
    "    unittest.main(argv=['first-arg-is-ignored'], exit=False)"
   ]
  },
  {
   "cell_type": "code",
   "execution_count": null,
   "metadata": {},
   "outputs": [],
   "source": []
  }
 ],
 "metadata": {
  "kernelspec": {
   "display_name": "Python 3",
   "language": "python",
   "name": "python3"
  },
  "language_info": {
   "codemirror_mode": {
    "name": "ipython",
    "version": 3
   },
   "file_extension": ".py",
   "mimetype": "text/x-python",
   "name": "python",
   "nbconvert_exporter": "python",
   "pygments_lexer": "ipython3",
   "version": "3.6.4"
  }
 },
 "nbformat": 4,
 "nbformat_minor": 2
}
