{
 "cells": [
  {
   "cell_type": "code",
   "execution_count": 10,
   "metadata": {
    "collapsed": false
   },
   "outputs": [
    {
     "name": "stdout",
     "output_type": "stream",
     "text": [
      "Base initialiser called\n",
      "Sub initialiser called\n",
      "Sub class function called\n"
     ]
    }
   ],
   "source": [
    "# Single Inehritance \n",
    "\n",
    "# class SubClass(BaseClass)\n",
    "\n",
    "\n",
    "class Base:\n",
    "    def __init__(self):        \n",
    "        print('Base initialiser called')\n",
    "        \n",
    "    def f(self):\n",
    "        print('Base class function called')\n",
    "        \n",
    "class Sub(Base):\n",
    "    def __init__(self):     \n",
    "        super().__init__()\n",
    "        print('Sub initialiser called')        \n",
    "    \n",
    "    def f(self):\n",
    "        print('Sub class function called') \n",
    "\n",
    "\n",
    "# Python treats __init__ like any other method, \n",
    "# hence base class init is not called automatically while creating Sub instance if overridden\n",
    "# super() function can be used to call the Base initialiser\n",
    "s= Sub()\n",
    "s.f()\n",
    "\n"
   ]
  },
  {
   "cell_type": "code",
   "execution_count": 4,
   "metadata": {
    "collapsed": false
   },
   "outputs": [
    {
     "name": "stdout",
     "output_type": "stream",
     "text": [
      "SortedList([-1243, 1, 2, 4, 7, 46, 712])\n",
      "SortedList([-1243, 0, 1, 2, 4, 7, 46, 712])\n"
     ]
    }
   ],
   "source": [
    "# WOrking with a realistic example\n",
    "\n",
    "class SimpleList:\n",
    "    def __init__(self, items):\n",
    "        self._items = list(items)\n",
    "\n",
    "    def add(self, item):\n",
    "        self._items.append(item)\n",
    "\n",
    "    def __getitem__(self, index):\n",
    "        return self._items[index]\n",
    "\n",
    "    def sort(self):\n",
    "        self._items.sort()\n",
    "\n",
    "    def __len__(self):\n",
    "        return len(self._items)\n",
    "\n",
    "    def __repr__(self):\n",
    "        return \"SimpleList({!r})\".format(self._items)\n",
    "\n",
    "# Implements most of the simple list's functionalities    \n",
    "class SortedList(SimpleList):\n",
    "    def __init__(self, items=()):\n",
    "        super().__init__(items)\n",
    "        self.sort()\n",
    "\n",
    "    def add(self, item):\n",
    "        super().add(item)\n",
    "        self.sort()\n",
    "\n",
    "    def __repr__(self):\n",
    "        return \"SortedList({!r})\".format(list(self))\n",
    "\n",
    "    \n",
    "sl = SortedList([4,7,2,46,712,1,-1243])    \n",
    "\n",
    "print(sl)\n",
    "\n",
    "sl.add(0)\n",
    "\n",
    "print(sl)"
   ]
  },
  {
   "cell_type": "code",
   "execution_count": 5,
   "metadata": {
    "collapsed": true
   },
   "outputs": [],
   "source": [
    "# Using isinstance() method to check if an object is a certain type. \n",
    "# Usage : isinstance(object,type) -> returns a boolean indicating the type\n",
    "# can also accept a tuple for type to check any of the given types for the object passed\n",
    "    \n",
    "class IntList(SimpleList):\n",
    "    def __init__(self, items=()):\n",
    "        for x in items: self._validate(x)\n",
    "        super().__init__(items)\n",
    "\n",
    "    @staticmethod\n",
    "    def _validate(x):\n",
    "        if not isinstance(x, int):\n",
    "            raise TypeError('IntList only supports integer values.')\n",
    "\n",
    "    def add(self, item):\n",
    "        self._validate(item)\n",
    "        super().add(item)\n",
    "\n",
    "    def __repr__(self):\n",
    "        return \"IntList({!r})\".format(list(self))\n",
    "\n",
    "class SortedIntList(IntList, SortedList):\n",
    "    def __repr__(self):\n",
    "        return 'SortedIntList({!r})'.format(list(self))\n",
    "\n",
    "    \n",
    "    "
   ]
  },
  {
   "cell_type": "code",
   "execution_count": 7,
   "metadata": {
    "collapsed": false
   },
   "outputs": [
    {
     "name": "stdout",
     "output_type": "stream",
     "text": [
      "True\n"
     ]
    }
   ],
   "source": [
    "# issublass(type1, type2) -> returns true if the type1 is the subclass of type2\n",
    "# returns true even if the subclass is not the direct subclass\n",
    "\n",
    "print(issubclass(IntList,SimpleList))"
   ]
  },
  {
   "cell_type": "markdown",
   "metadata": {},
   "source": [
    "# Multiple Inheritance"
   ]
  },
  {
   "cell_type": "code",
   "execution_count": 10,
   "metadata": {
    "collapsed": false
   },
   "outputs": [
    {
     "name": "stdout",
     "output_type": "stream",
     "text": [
      "SortedIntLIst:[-1243, 1, 2, 4, 7, 46, 712]\n",
      "SortedIntLIst:[-1243, 0, 1, 2, 4, 7, 46, 712]\n"
     ]
    },
    {
     "ename": "TypeError",
     "evalue": "IntList only supports integer values.",
     "output_type": "error",
     "traceback": [
      "\u001b[0;31m---------------------------------------------------------------------------\u001b[0m",
      "\u001b[0;31mTypeError\u001b[0m                                 Traceback (most recent call last)",
      "\u001b[0;32m<ipython-input-10-c2c10b05b2f1>\u001b[0m in \u001b[0;36m<module>\u001b[0;34m()\u001b[0m\n\u001b[1;32m     16\u001b[0m \u001b[0mprint\u001b[0m\u001b[1;33m(\u001b[0m\u001b[0msl\u001b[0m\u001b[1;33m)\u001b[0m\u001b[1;33m\u001b[0m\u001b[0m\n\u001b[1;32m     17\u001b[0m \u001b[1;33m\u001b[0m\u001b[0m\n\u001b[0;32m---> 18\u001b[0;31m \u001b[0msl\u001b[0m\u001b[1;33m.\u001b[0m\u001b[0madd\u001b[0m\u001b[1;33m(\u001b[0m\u001b[1;34m'a'\u001b[0m\u001b[1;33m)\u001b[0m\u001b[1;33m\u001b[0m\u001b[0m\n\u001b[0m",
      "\u001b[0;32m<ipython-input-5-e40464d48156>\u001b[0m in \u001b[0;36madd\u001b[0;34m(self, item)\u001b[0m\n\u001b[1;32m     14\u001b[0m \u001b[1;33m\u001b[0m\u001b[0m\n\u001b[1;32m     15\u001b[0m     \u001b[1;32mdef\u001b[0m \u001b[0madd\u001b[0m\u001b[1;33m(\u001b[0m\u001b[0mself\u001b[0m\u001b[1;33m,\u001b[0m \u001b[0mitem\u001b[0m\u001b[1;33m)\u001b[0m\u001b[1;33m:\u001b[0m\u001b[1;33m\u001b[0m\u001b[0m\n\u001b[0;32m---> 16\u001b[0;31m         \u001b[0mself\u001b[0m\u001b[1;33m.\u001b[0m\u001b[0m_validate\u001b[0m\u001b[1;33m(\u001b[0m\u001b[0mitem\u001b[0m\u001b[1;33m)\u001b[0m\u001b[1;33m\u001b[0m\u001b[0m\n\u001b[0m\u001b[1;32m     17\u001b[0m         \u001b[0msuper\u001b[0m\u001b[1;33m(\u001b[0m\u001b[1;33m)\u001b[0m\u001b[1;33m.\u001b[0m\u001b[0madd\u001b[0m\u001b[1;33m(\u001b[0m\u001b[0mitem\u001b[0m\u001b[1;33m)\u001b[0m\u001b[1;33m\u001b[0m\u001b[0m\n\u001b[1;32m     18\u001b[0m \u001b[1;33m\u001b[0m\u001b[0m\n",
      "\u001b[0;32m<ipython-input-5-e40464d48156>\u001b[0m in \u001b[0;36m_validate\u001b[0;34m(x)\u001b[0m\n\u001b[1;32m     11\u001b[0m     \u001b[1;32mdef\u001b[0m \u001b[0m_validate\u001b[0m\u001b[1;33m(\u001b[0m\u001b[0mx\u001b[0m\u001b[1;33m)\u001b[0m\u001b[1;33m:\u001b[0m\u001b[1;33m\u001b[0m\u001b[0m\n\u001b[1;32m     12\u001b[0m         \u001b[1;32mif\u001b[0m \u001b[1;32mnot\u001b[0m \u001b[0misinstance\u001b[0m\u001b[1;33m(\u001b[0m\u001b[0mx\u001b[0m\u001b[1;33m,\u001b[0m \u001b[0mint\u001b[0m\u001b[1;33m)\u001b[0m\u001b[1;33m:\u001b[0m\u001b[1;33m\u001b[0m\u001b[0m\n\u001b[0;32m---> 13\u001b[0;31m             \u001b[1;32mraise\u001b[0m \u001b[0mTypeError\u001b[0m\u001b[1;33m(\u001b[0m\u001b[1;34m'IntList only supports integer values.'\u001b[0m\u001b[1;33m)\u001b[0m\u001b[1;33m\u001b[0m\u001b[0m\n\u001b[0m\u001b[1;32m     14\u001b[0m \u001b[1;33m\u001b[0m\u001b[0m\n\u001b[1;32m     15\u001b[0m     \u001b[1;32mdef\u001b[0m \u001b[0madd\u001b[0m\u001b[1;33m(\u001b[0m\u001b[0mself\u001b[0m\u001b[1;33m,\u001b[0m \u001b[0mitem\u001b[0m\u001b[1;33m)\u001b[0m\u001b[1;33m:\u001b[0m\u001b[1;33m\u001b[0m\u001b[0m\n",
      "\u001b[0;31mTypeError\u001b[0m: IntList only supports integer values."
     ]
    }
   ],
   "source": [
    "# class Subclass(Base1, Base2, ...)\n",
    "# MRO (Method Resolution ORder) used to resolve the moethof to call in case of name clashes\n",
    "\n",
    "\n",
    "class SortedIntList(IntList, SortedList):\n",
    "    def __repr__(self):\n",
    "        return 'SortedIntLIst:{}'.format(list(self))\n",
    "    \n",
    "    \n",
    "sl = SortedIntList([4,7,2,46,712,1,-1243])    \n",
    "\n",
    "print(sl)\n",
    "\n",
    "sl.add(0)\n",
    "\n",
    "print(sl)    \n",
    "\n",
    "sl.add('a')\n"
   ]
  },
  {
   "cell_type": "code",
   "execution_count": 12,
   "metadata": {
    "collapsed": false
   },
   "outputs": [
    {
     "ename": "TypeError",
     "evalue": "Cannot create a consistent method resolution\norder (MRO) for bases A, C",
     "output_type": "error",
     "traceback": [
      "\u001b[0;31m---------------------------------------------------------------------------\u001b[0m",
      "\u001b[0;31mTypeError\u001b[0m                                 Traceback (most recent call last)",
      "\u001b[0;32m<ipython-input-12-b12294f5b7e8>\u001b[0m in \u001b[0;36m<module>\u001b[0;34m()\u001b[0m\n\u001b[1;32m     21\u001b[0m     \u001b[1;32mpass\u001b[0m\u001b[1;33m\u001b[0m\u001b[0m\n\u001b[1;32m     22\u001b[0m \u001b[1;33m\u001b[0m\u001b[0m\n\u001b[0;32m---> 23\u001b[0;31m \u001b[1;32mclass\u001b[0m \u001b[0mD\u001b[0m\u001b[1;33m(\u001b[0m\u001b[0mB\u001b[0m\u001b[1;33m,\u001b[0m \u001b[0mA\u001b[0m\u001b[1;33m,\u001b[0m \u001b[0mC\u001b[0m\u001b[1;33m)\u001b[0m\u001b[1;33m:\u001b[0m\u001b[1;33m\u001b[0m\u001b[0m\n\u001b[0m\u001b[1;32m     24\u001b[0m     \u001b[1;32mpass\u001b[0m\u001b[1;33m\u001b[0m\u001b[0m\n\u001b[1;32m     25\u001b[0m \u001b[1;33m\u001b[0m\u001b[0m\n",
      "\u001b[0;31mTypeError\u001b[0m: Cannot create a consistent method resolution\norder (MRO) for bases A, C"
     ]
    }
   ],
   "source": [
    "# Details of Multiple Inheritance :\n",
    "# By default only th Base1 initialiser is called\n",
    "# __bases__ returns a tuple of the base classes\n",
    "\n",
    "# METHOD RESOLUTION ORDER\n",
    "# __mro__ attribute is the tuple of classes to find the method order resoltuion\n",
    "# the method call resolves to the first base class that teh MRO finds starting from left (B1, B2, ...)\n",
    "\n",
    "# C3 - Algorithm for calculation MRO in Python\n",
    "# ensures sublasses come before Base classes, order preserved in the inheritance declaration \n",
    "# c3 can fail to compile in some situations where correct order is not specified or a base class is used before a subclass \n",
    "# ex : \n",
    "\n",
    "class A:\n",
    "    pass\n",
    "\n",
    "class B(A):\n",
    "    pass\n",
    "\n",
    "class C(A):\n",
    "    pass\n",
    "\n",
    "class D(B, A, C):\n",
    "    pass\n",
    "\n"
   ]
  },
  {
   "cell_type": "code",
   "execution_count": 17,
   "metadata": {
    "collapsed": false
   },
   "outputs": [
    {
     "name": "stdout",
     "output_type": "stream",
     "text": [
      "(<class '__main__.SortedIntList'>, <class '__main__.IntList'>, <class '__main__.SortedList'>, <class '__main__.SimpleList'>, <class 'object'>)\n",
      "<super: <class 'SortedList'>, <SortedIntList object>>\n",
      "<function SimpleList.add at 0x000000000561AD90>\n"
     ]
    }
   ],
   "source": [
    "# super() returns a proxy object which routes method calls\n",
    "# bound proxies - bound to a specific class or instance\n",
    "# unbound proxies - read later\n",
    "\n",
    "# Class-bound proxies\n",
    "# super(base-class, derived-class) - both arguments are class objects (second should be sub.same calss)\n",
    "# 1. Finds MRO for derived-class\n",
    "# 2. Finds base-class in that MRO\n",
    "# 3. takes everything *after* base-class in the MRO and matches the method \n",
    "\n",
    "\n",
    "print(SortedIntList.__mro__)\n",
    "\n",
    "print(super(SortedList, SortedIntList))\n",
    "\n",
    "print(super(SortedList, SortedIntList).add)\n",
    "\n"
   ]
  },
  {
   "cell_type": "code",
   "execution_count": 19,
   "metadata": {
    "collapsed": false
   },
   "outputs": [
    {
     "name": "stdout",
     "output_type": "stream",
     "text": [
      "<super: <class 'SortedList'>, <SortedIntList object>>\n",
      "<bound method SimpleList.add of SortedIntLIst:[-1243, 1, 2, 4, 7, 46, 712]>\n"
     ]
    }
   ],
   "source": [
    "# Instance bound proxy\n",
    "# super(class, instance-of class)\n",
    "# 1. Finds MRO of the type of instnce passed in second argument -> herein lies the key to how python maintains the same MRO order across diferent classes\n",
    "# 2. Finds the location of the ifrst arg in the MRO\n",
    "# 3. takes everything *after* class in the MRO and matches the method \n",
    "# 4. since proxy is bound to an instance, it is  callable\n",
    "\n",
    "sil = SortedIntList([4,7,2,46,712,1,-1243])    \n",
    "\n",
    "print(super(SortedList, sil))\n",
    "\n",
    "print(super(SortedList, sil).add)\n",
    "\n",
    "\n",
    "# the above code will invoke base class's add method, thereby overriding the checks in Int and sorted list"
   ]
  },
  {
   "cell_type": "raw",
   "metadata": {},
   "source": [
    "# super() arguments\n",
    "\n",
    "# instance method\n",
    "# if we're in an instance method, then calling super() without arguments is equivalent to :\n",
    "# super(class-of-method, self)\n",
    "\n",
    "# class method (@classmethod)\n",
    "# super() = super(class-of-method, class)\n",
    "\n",
    "# Using MRO, we can see how .add of SortedIntList resolves to both the add methods of Int and Sorted List\n",
    "\n",
    "'''\n",
    "(<class '__main__.SortedIntList'>, -> super().add called in the add() method of this class, which then searhces in teh below MRO\n",
    " <class '__main__.IntList'>, \n",
    " <class '__main__.SortedList'>, \n",
    " <class '__main__.SimpleList'>, \n",
    " <class 'object'>)\n",
    "\n",
    "super().add on SortedIntList searches for .add in :\n",
    "\n",
    "(<class '__main__.IntList'>,       -> Match  (this in turn calls the super().add which searches in the MRO below)\n",
    " <class '__main__.SortedList'>, \n",
    " <class '__main__.SimpleList'>, \n",
    " <class 'object'>)\n",
    "\n",
    "(<class '__main__.SortedList'>,    -> Match, when executed this in turn calls the super().add, which searches in teh MRO below\n",
    " <class '__main__.SimpleList'>, \n",
    " <class 'object'>)\n",
    " \n",
    " \n",
    "(<class '__main__.SimpleList'>,    -> Final call made\n",
    " <class 'object'>) \n",
    "'''"
   ]
  },
  {
   "cell_type": "code",
   "execution_count": 21,
   "metadata": {
    "collapsed": false
   },
   "outputs": [
    {
     "name": "stdout",
     "output_type": "stream",
     "text": [
      "['__class__', '__delattr__', '__dir__', '__doc__', '__eq__', '__format__', '__ge__', '__getattribute__', '__gt__', '__hash__', '__init__', '__init_subclass__', '__le__', '__lt__', '__ne__', '__new__', '__reduce__', '__reduce_ex__', '__repr__', '__setattr__', '__sizeof__', '__str__', '__subclasshook__']\n"
     ]
    }
   ],
   "source": [
    "# The Object Class, The Ultimate Base class\n",
    "\n",
    "# Methods of  object\n",
    "print(dir(object))\n"
   ]
  },
  {
   "cell_type": "code",
   "execution_count": null,
   "metadata": {
    "collapsed": true
   },
   "outputs": [],
   "source": []
  }
 ],
 "metadata": {
  "kernelspec": {
   "display_name": "Python 3",
   "language": "python",
   "name": "python3"
  },
  "language_info": {
   "codemirror_mode": {
    "name": "ipython",
    "version": 3
   },
   "file_extension": ".py",
   "mimetype": "text/x-python",
   "name": "python",
   "nbconvert_exporter": "python",
   "pygments_lexer": "ipython3",
   "version": "3.6.0"
  }
 },
 "nbformat": 4,
 "nbformat_minor": 2
}
