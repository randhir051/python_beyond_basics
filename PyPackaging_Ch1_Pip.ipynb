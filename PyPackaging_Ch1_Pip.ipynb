{
 "cells": [
  {
   "cell_type": "code",
   "execution_count": 1,
   "metadata": {},
   "outputs": [
    {
     "name": "stdout",
     "output_type": "stream",
     "text": [
      "Package           Version   \n",
      "----------------- ----------\n",
      "absl-py           0.3.0     \n",
      "appnope           0.1.0     \n",
      "astor             0.7.1     \n",
      "attrs             19.1.0    \n",
      "backcall          0.1.0     \n",
      "beautifulsoup4    4.8.1     \n",
      "bleach            3.1.0     \n",
      "certifi           2019.11.28\n",
      "chardet           3.0.4     \n",
      "cycler            0.10.0    \n",
      "decorator         4.4.0     \n",
      "defusedxml        0.6.0     \n",
      "docopt            0.6.2     \n",
      "entrypoints       0.3       \n",
      "et-xmlfile        1.0.1     \n",
      "gast              0.2.0     \n",
      "grpcio            1.14.0    \n",
      "idna              2.8       \n",
      "ipykernel         5.1.1     \n",
      "ipython           7.7.0     \n",
      "ipython-genutils  0.2.0     \n",
      "jdcal             1.4.1     \n",
      "jedi              0.14.1    \n",
      "Jinja2            2.10.1    \n",
      "Js2Py             0.66      \n",
      "json5             0.8.5     \n",
      "jsonschema        3.0.1     \n",
      "jupyter-client    5.3.1     \n",
      "jupyter-core      4.5.0     \n",
      "jupyterlab        1.0.4     \n",
      "jupyterlab-server 1.0.0     \n",
      "kiwisolver        1.0.1     \n",
      "Markdown          2.6.11    \n",
      "MarkupSafe        1.1.1     \n",
      "matplotlib        2.2.2     \n",
      "mistune           0.8.4     \n",
      "nbconvert         5.5.0     \n",
      "nbformat          4.4.0     \n",
      "notebook          6.0.0     \n",
      "numpy             1.14.2    \n",
      "openpyxl          2.6.2     \n",
      "packaging         19.2      \n",
      "pandas            0.25.0    \n",
      "pandocfilters     1.4.2     \n",
      "parso             0.5.1     \n",
      "pexpect           4.7.0     \n",
      "pickleshare       0.7.5     \n",
      "pip               19.2.1    \n",
      "pipwin            0.4.6     \n",
      "prometheus-client 0.7.1     \n",
      "prompt-toolkit    2.0.9     \n",
      "protobuf          3.6.0     \n",
      "ptyprocess        0.6.0     \n",
      "Pygments          2.4.2     \n",
      "pyjsparser        2.7.1     \n",
      "pyparsing         2.2.0     \n",
      "PyPrind           2.11.2    \n",
      "pyrsistent        0.15.3    \n",
      "python-dateutil   2.7.3     \n",
      "pytz              2018.5    \n",
      "pyzmq             18.0.2    \n",
      "requests          2.22.0    \n",
      "robobrowser       0.5.3     \n",
      "Send2Trash        1.5.0     \n",
      "setuptools        28.8.0    \n",
      "six               1.11.0    \n",
      "soupsieve         1.9.5     \n",
      "SpeechRecognition 3.8.1     \n",
      "tensorboard       1.9.0     \n",
      "tensorflow        1.9.0     \n",
      "termcolor         1.1.0     \n",
      "terminado         0.8.2     \n",
      "testpath          0.4.2     \n",
      "tornado           6.0.3     \n",
      "traitlets         4.3.2     \n",
      "tzlocal           2.0.0     \n",
      "urllib3           1.25.7    \n",
      "wcwidth           0.1.7     \n",
      "webencodings      0.5.1     \n",
      "Werkzeug          0.14.1    \n",
      "wheel             0.31.1    \n",
      "\u001b[33mWARNING: You are using pip version 19.2.1, however version 20.0.2 is available.\n",
      "You should consider upgrading via the 'pip install --upgrade pip' command.\u001b[0m\n"
     ]
    }
   ],
   "source": [
    "!pip list"
   ]
  },
  {
   "cell_type": "code",
   "execution_count": 2,
   "metadata": {},
   "outputs": [
    {
     "data": {
      "text/plain": [
       "['/Library/Frameworks/Python.framework/Versions/3.6/lib/python36.zip',\n",
       " '/Library/Frameworks/Python.framework/Versions/3.6/lib/python3.6',\n",
       " '/Library/Frameworks/Python.framework/Versions/3.6/lib/python3.6/lib-dynload',\n",
       " '',\n",
       " '/Library/Frameworks/Python.framework/Versions/3.6/lib/python3.6/site-packages',\n",
       " '/Library/Frameworks/Python.framework/Versions/3.6/lib/python3.6/site-packages/IPython/extensions',\n",
       " '/Users/randhirsingh/.ipython']"
      ]
     },
     "execution_count": 2,
     "metadata": {},
     "output_type": "execute_result"
    }
   ],
   "source": [
    "import sys\n",
    "sys.path"
   ]
  },
  {
   "cell_type": "code",
   "execution_count": 4,
   "metadata": {},
   "outputs": [],
   "source": [
    "!pip show math"
   ]
  },
  {
   "cell_type": "code",
   "execution_count": null,
   "metadata": {},
   "outputs": [],
   "source": [
    "# Bettwe way to install a package to a systemwide version of python\n",
    "# python3.6 -m pip install tensorflow"
   ]
  }
 ],
 "metadata": {
  "kernelspec": {
   "display_name": "Python 3",
   "language": "python",
   "name": "python3"
  },
  "language_info": {
   "codemirror_mode": {
    "name": "ipython",
    "version": 3
   },
   "file_extension": ".py",
   "mimetype": "text/x-python",
   "name": "python",
   "nbconvert_exporter": "python",
   "pygments_lexer": "ipython3",
   "version": "3.6.4"
  }
 },
 "nbformat": 4,
 "nbformat_minor": 2
}
